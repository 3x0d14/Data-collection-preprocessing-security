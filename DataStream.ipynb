{
 "cells": [
  {
   "cell_type": "markdown",
   "id": "0c829c7b",
   "metadata": {},
   "source": [
    "# Data collection and transmission  project\n",
    "_Done by: Nasserallah EL MASSAOUDI - Rim BOUKBA\n",
    "## This first notebook will be devoted to data collection\n"
   ]
  },
  {
   "cell_type": "markdown",
   "id": "19fe72e6",
   "metadata": {},
   "source": [
    "This project aims to utilize what we learned during the course _Data collection and transmission_ in order to perform sentiment analysis on data related to the BITCOIN currency that was harvested from twitter."
   ]
  },
  {
   "cell_type": "code",
   "execution_count": 1,
   "id": "8f938994",
   "metadata": {},
   "outputs": [],
   "source": [
    "#Importing necessary libraries\n",
    "import tweepy\n",
    "from tweepy import  Stream\n",
    "import sys\n",
    "import time\n",
    "import json\n",
    "from datetime import datetime\n",
    "import string\n",
    "import pandas as pd\n",
    "import utilities"
   ]
  },
  {
   "cell_type": "markdown",
   "id": "e47933f9",
   "metadata": {},
   "source": [
    "# Data Collection\n",
    "\n",
    "The data we will use for this project is streamed data from the Twitter API, corresponding to tweets related to BITCOIN. We collected tweets that had #BTC and #BITCOIN. We used the logic and the functions convert_valid() and format_filename() from the courses, as we had to reconstruct the MyListener() function to fit what we need."
   ]
  },
  {
   "cell_type": "code",
   "execution_count": 2,
   "id": "efe80025",
   "metadata": {},
   "outputs": [
    {
     "data": {
      "text/plain": [
       "\"consumer_key = ''\\nconsumer_secret = ''\\naccess_token = ''\\naccess_secret = ''\""
      ]
     },
     "execution_count": 2,
     "metadata": {},
     "output_type": "execute_result"
    }
   ],
   "source": [
    "consumer_key = ''\n",
    "consumer_secret = ''\n",
    "access_token = ''\n",
    "access_secret = ''"
   ]
  },
  {
   "cell_type": "code",
   "execution_count": 3,
   "id": "d824ef4f",
   "metadata": {},
   "outputs": [],
   "source": [
    "auth = tweepy.OAuthHandler(consumer_key,consumer_secret,access_token,access_secret)"
   ]
  },
  {
   "cell_type": "code",
   "execution_count": 4,
   "id": "b219aaf5",
   "metadata": {},
   "outputs": [],
   "source": [
    "api = tweepy.API(auth)"
   ]
  },
  {
   "cell_type": "code",
   "execution_count": 5,
   "id": "68727bbc",
   "metadata": {},
   "outputs": [],
   "source": [
    "query = [\"#BTC\",\"#BITCOIN\"]"
   ]
  },
  {
   "cell_type": "code",
   "execution_count": 6,
   "id": "107064f4",
   "metadata": {},
   "outputs": [],
   "source": [
    "def convert_valid(one_char):\n",
    "    valid_chars = \"-_.%s%s\" % (string.ascii_letters, string.digits)\n",
    "    if one_char in valid_chars:\n",
    "        return one_char\n",
    "    else:\n",
    "        return '_'"
   ]
  },
  {
   "cell_type": "code",
   "execution_count": 7,
   "id": "9b1e8074",
   "metadata": {},
   "outputs": [],
   "source": [
    "def format_filename(fname):\n",
    "    return ''.join(convert_valid(one_char) for one_char in fname)"
   ]
  },
  {
   "cell_type": "code",
   "execution_count": 8,
   "id": "b84ea8bb",
   "metadata": {},
   "outputs": [],
   "source": [
    "class MyListener(Stream):\n",
    "    def __init__(self, fname,ck,cs,at,ats):\n",
    "        super(MyListener,self).__init__(ck,cs,at,ats)\n",
    "        safe_fname = format_filename(fname)\n",
    "        self.outfile = \"stream_%s.jsonl\" % safe_fname\n",
    "\n",
    "    def on_data(self, data):\n",
    "        try:\n",
    "            # Write code where you write your data at the end of your file\n",
    "            data = data.decode(\"utf-8\")\n",
    "            with open(self.outfile,\"a\") as f:\n",
    "                f.write(data)\n",
    "                f.write(\"\\n\")\n",
    "\n",
    "        except BaseException as e:\n",
    "            sys.stderr.write(\"Error on_data: {}\\n\".format(e))\n",
    "            time.sleep(5)\n",
    "            return True\n",
    "        \n",
    "        \n",
    "    def on_error(self, status):\n",
    "        if status == 420:\n",
    "            sys.stderr.write(\"Rate limit exceeded\\n\".format(status))\n",
    "            return False\n",
    "        else:\n",
    "            sys.stderr.write(\"Error {}\\n\".format(status))\n",
    "            return True"
   ]
  },
  {
   "cell_type": "code",
   "execution_count": 9,
   "id": "0966ad39",
   "metadata": {},
   "outputs": [],
   "source": [
    "streamer = MyListener(\" \".join(query),consumer_key,consumer_secret,access_token,access_secret)"
   ]
  },
  {
   "cell_type": "code",
   "execution_count": null,
   "id": "49ce3250",
   "metadata": {},
   "outputs": [],
   "source": [
    "streamer.filter(track=query,languages=[\"en\"])"
   ]
  },
  {
   "cell_type": "code",
   "execution_count": 11,
   "id": "141b0f68",
   "metadata": {},
   "outputs": [],
   "source": [
    "streamer.disconnect()"
   ]
  },
  {
   "cell_type": "markdown",
   "id": "c157d9c3",
   "metadata": {},
   "source": [
    "# Data preprocessing\n",
    "In the following few blocks, we will process the data that we have in order to create structure that we will further use to perform sentiment analysis on."
   ]
  },
  {
   "cell_type": "code",
   "execution_count": null,
   "id": "c679fb0a",
   "metadata": {},
   "outputs": [],
   "source": [
    "result = []\n",
    "with open(\"stream__BTC__BITCOIN.jsonl\",\"r\") as file:\n",
    "    for tweet in file:\n",
    "        result.append(json.loads(tweet))\n",
    "p.pprint(result)"
   ]
  },
  {
   "cell_type": "code",
   "execution_count": null,
   "id": "d23c2f3b",
   "metadata": {},
   "outputs": [],
   "source": [
    "result_clean = []\n",
    "for tweet in result:\n",
    "    x = {}\n",
    "    x[\"user_followers\"] = tweet[\"user\"][\"followers_count\"]\n",
    "    date = datetime.strptime(tweet[\"created_at\"],'%a %b %d %X %z %Y')\n",
    "    date = datetime.strftime(date,\"%Y/%m/%d-%H\")\n",
    "    x[\"date\"] = date\n",
    "    x[\"text\"] = tweet[\"text\"]\n",
    "    result_clean.append(x)\n",
    "result_clean"
   ]
  },
  {
   "cell_type": "code",
   "execution_count": null,
   "id": "56099188",
   "metadata": {},
   "outputs": [],
   "source": [
    "data = pd.DataFrame(result_clean)\n",
    "data.head()"
   ]
  },
  {
   "cell_type": "code",
   "execution_count": null,
   "id": "6dba27aa",
   "metadata": {},
   "outputs": [],
   "source": [
    "data[\"date\"] = pd.to_datetime(data[\"date\"])\n",
    "data.head()"
   ]
  },
  {
   "cell_type": "code",
   "execution_count": null,
   "id": "02ea223f",
   "metadata": {},
   "outputs": [],
   "source": [
    "filtre_data = data[data[\"user_followers\"]> 50000] #keeping users with a high followers count only, as they are more likely to have influence"
   ]
  },
  {
   "cell_type": "markdown",
   "id": "0a1dbeac",
   "metadata": {},
   "source": [
    "# Remember to fix the file name"
   ]
  },
  {
   "cell_type": "code",
   "execution_count": null,
   "id": "ffa47103",
   "metadata": {},
   "outputs": [],
   "source": [
    "filtre_data.to_csv(\"Finale.csv\",index=False)"
   ]
  },
  {
   "cell_type": "markdown",
   "id": "83e53b99",
   "metadata": {},
   "source": [
    "# Data Encryption\n",
    "In this section we will encrypt our files for security measures using AES-GCM. The functions used to generate the key and encrypt the file can be found in the file utilities.py in the current directory.\n"
   ]
  },
  {
   "cell_type": "code",
   "execution_count": null,
   "id": "98ce10d3",
   "metadata": {},
   "outputs": [],
   "source": [
    "f_data = pd.read_csv(\"Finale.csv\")\n",
    "f_data"
   ]
  },
  {
   "cell_type": "code",
   "execution_count": null,
   "id": "58fe0882",
   "metadata": {},
   "outputs": [],
   "source": [
    "#the utilities file contains fuction for decrypting/encrypting csv files, and generating private keys\n",
    "\n",
    "key = utilities.Gen_Key_File()\n",
    "utilities.Enc_csv(\"Finale.csv\",key)"
   ]
  },
  {
   "cell_type": "markdown",
   "id": "ad154399",
   "metadata": {},
   "source": [
    "Please refer to the _DataProcessing.ipynb_ file"
   ]
  }
 ],
 "metadata": {
  "kernelspec": {
   "display_name": "Python 3",
   "language": "python",
   "name": "python3"
  },
  "language_info": {
   "codemirror_mode": {
    "name": "ipython",
    "version": 3
   },
   "file_extension": ".py",
   "mimetype": "text/x-python",
   "name": "python",
   "nbconvert_exporter": "python",
   "pygments_lexer": "ipython3",
   "version": "3.9.7"
  }
 },
 "nbformat": 4,
 "nbformat_minor": 5
}
